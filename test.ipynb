{
 "cells": [
  {
   "cell_type": "code",
   "execution_count": 39,
   "metadata": {},
   "outputs": [
    {
     "name": "stdout",
     "output_type": "stream",
     "text": [
      "The autoreload extension is already loaded. To reload it, use:\n",
      "  %reload_ext autoreload\n"
     ]
    }
   ],
   "source": [
    "%load_ext autoreload\n",
    "%autoreload 2\n",
    "import geopandas as gpd\n",
    "from shapely.geometry import LineString, Point\n",
    "from shapely.ops import substring\n",
    "import sys\n",
    "\n",
    "sys.path.append(\"routeimager/\")\n",
    "\n",
    "import routeimager.config as cfg\n",
    "from routeimager.utils import read_maps_api_key, geocode_address, tile_session_token, compute_route\n",
    "from routeimager.image import RouteTiler"
   ]
  },
  {
   "cell_type": "code",
   "execution_count": 8,
   "metadata": {},
   "outputs": [],
   "source": [
    "api_key = read_maps_api_key()\n",
    "route = compute_route(origin=\"Fregattgatan 3, 21113 Malmö, Sweden\", destination=\"Stockholm, Sweden\", api_key=api_key)"
   ]
  },
  {
   "cell_type": "code",
   "execution_count": 17,
   "metadata": {},
   "outputs": [],
   "source": [
    "line = LineString(route['routes'][0]['polyline']['geoJsonLinestring']['coordinates'])\n",
    "gdf = gpd.GeoDataFrame(geometry=[line], crs='EPSG:4326')\n",
    "gdf = gdf.to_crs('EPSG:3006')\n"
   ]
  },
  {
   "cell_type": "code",
   "execution_count": 29,
   "metadata": {},
   "outputs": [
    {
     "data": {
      "text/plain": [
       "55.616713"
      ]
     },
     "execution_count": 29,
     "metadata": {},
     "output_type": "execute_result"
    }
   ],
   "source": [
    "route['routes'][0]['polyline']['geoJsonLinestring']['coordinates'][0][1]"
   ]
  },
  {
   "cell_type": "code",
   "execution_count": 42,
   "metadata": {},
   "outputs": [],
   "source": [
    "rt = RouteTiler('test')\n",
    "\n",
    "tiles = []\n",
    "for coord in line.coords:\n",
    "    tiles.append(rt._lat_lng_to_tile_coordinate(*coord))"
   ]
  },
  {
   "cell_type": "code",
   "execution_count": 12,
   "metadata": {},
   "outputs": [
    {
     "name": "stdout",
     "output_type": "stream",
     "text": [
      "TileX: 3 X: 3072 TileY: 0 Y: 1023\n",
      "TileX: 3 X: 3315 TileY: 1 Y: 1206\n",
      "TileX: 3 X: 3558 TileY: 1 Y: 1389\n",
      "TileX: 3 X: 3801 TileY: 1 Y: 1571\n",
      "TileX: 3 X: 4044 TileY: 1 Y: 1754\n",
      "TileX: 4 X: 4288 TileY: 1 Y: 1936\n",
      "TileX: 4 X: 4531 TileY: 2 Y: 2119\n",
      "TileX: 4 X: 4774 TileY: 2 Y: 2301\n",
      "TileX: 4 X: 5017 TileY: 2 Y: 2484\n",
      "TileX: 5 X: 5261 TileY: 2 Y: 2667\n"
     ]
    }
   ],
   "source": [
    "import math\n",
    "import numpy as np\n",
    "from shapely.geometry import LineString\n",
    "\n",
    "def _lat_lng_to_tile_coordinate(lng, lat):\n",
    "    lat_rad = math.radians(lat)\n",
    "    n = 2.0 ** 12\n",
    "    x = int((lng + 180.0) / 360.0 * n)\n",
    "    y = int((1.0 - math.asinh(math.tan(lat_rad)) / math.pi) / 2.0 * n)\n",
    "    return (x, y)\n",
    "\n",
    "def _tile_coordinate_to_wgs_bounds(x, y):\n",
    "    n = 2.0 ** 12\n",
    "    lon_deg_left = x / n * 360.0 - 180.0\n",
    "    lon_deg_right = (x + 1) / n * 360.0 - 180.0\n",
    "    lat_rad_top = math.atan(math.sinh(math.pi * (1 - 2 * y / n)))\n",
    "    lat_rad_bottom = math.atan(math.sinh(math.pi * (1 - 2 * (y + 1) / n)))\n",
    "    lat_deg_top = math.degrees(lat_rad_top)\n",
    "    lat_deg_bottom = math.degrees(lat_rad_bottom)\n",
    "    #left_bottom_proj = self.project(lon_deg_left, lat_deg_bottom)\n",
    "    #right_top_proj = self.project(lon_deg_right, lat_deg_top)\n",
    "    return (lon_deg_left, lat_deg_bottom, lon_deg_right, lat_deg_top)\n",
    "\n",
    "\n",
    "def wgs84_to_pixel(lon, lat):\n",
    "    tilesize=1024\n",
    "    tile = _lat_lng_to_tile_coordinate(lon, lat)\n",
    "    tile_x_idx = tile[0] - 2192\n",
    "    tile_y_idx = 1284 - tile[1]\n",
    "    bbox = _tile_coordinate_to_wgs_bounds(*tile)\n",
    "\n",
    "    #lat_len, lon_len = meters_per_degree_lat_lon(math.radians((bbox[1] + bbox[3]) / 2))\n",
    "\n",
    "    # Calculate the physical dimensions of the bounding box\n",
    "    #lat_diff_meters = (bbox[3] - bbox[1]) * lat_len\n",
    "    #lon_diff_meters = (bbox[2] - bbox[0]) * lon_len\n",
    "    \n",
    "    # Calculate scaling factors\n",
    "    x_scale = tilesize / (bbox[2] - bbox[0])\n",
    "    y_scale = tilesize / (bbox[3] - bbox[1])\n",
    "\n",
    "    # Convert to pixel coordinates\n",
    "    pixel_x = int((lon - bbox[0]) * x_scale + tile_x_idx*tilesize)\n",
    "    pixel_y = int((lat - bbox[1]) * y_scale + tile_y_idx*tilesize)\n",
    "    print(f\"TileX: {tile_x_idx} X: {pixel_x} TileY: {tile_y_idx} Y: {pixel_y}\")\n",
    "    return pixel_x, pixel_y\n",
    "\n",
    "\n",
    "\n",
    "# Bounding box coordinates\n",
    "bbox = (12.919921875, 55.578344672182055, 13.1078125, 55.65799595426721)\n",
    "\n",
    "# Start and end points for the line within the bounding box\n",
    "start_point = (bbox[0], bbox[1])\n",
    "end_point = (bbox[2], bbox[3])\n",
    "\n",
    "# Generate 10 points linearly interpolated between the start and end points\n",
    "num_points = 10\n",
    "lons = np.linspace(start_point[0], end_point[0], num_points)\n",
    "lats = np.linspace(start_point[1], end_point[1], num_points)\n",
    "\n",
    "# Combine lons and lats into a list of coordinates\n",
    "line_coords = list(zip(lons, lats))\n",
    "\n",
    "# Create a LineString from the coordinates\n",
    "line = LineString(line_coords)\n",
    "pixel_coords = [wgs84_to_pixel(x, y) for x, y in line.coords]\n",
    "\n",
    "svg_polygon = '<polyline points=\"{}\" style=\"fill:none;stroke:purple;stroke-width:5\" />'.format(\n",
    "    ' '.join([f'{int(x)},{int(y)}' for x, y in pixel_coords]) # Invert y-axis for pixel coordinates\n",
    ")\n",
    "svg_content = f'<svg viewBox=\"0 0 {64512} {83968}\" xmlns=\"http://www.w3.org/2000/svg\" version=\"1.1\">{svg_polygon}</svg>'\n",
    "\n",
    "with open('buffer_polygon_test.svg', 'w') as file:\n",
    "    file.write(svg_content)"
   ]
  },
  {
   "cell_type": "code",
   "execution_count": 8,
   "metadata": {},
   "outputs": [
    {
     "data": {
      "text/plain": [
       "[(3072, 83968),\n",
       " (3315, 82102),\n",
       " (3558, 82285),\n",
       " (3801, 82467),\n",
       " (4044, 82650),\n",
       " (4288, 82832),\n",
       " (4531, 80967),\n",
       " (4774, 81149),\n",
       " (5017, 81332),\n",
       " (5261, 81515)]"
      ]
     },
     "execution_count": 8,
     "metadata": {},
     "output_type": "execute_result"
    }
   ],
   "source": [
    "pixel_coords"
   ]
  }
 ],
 "metadata": {
  "kernelspec": {
   "display_name": "Python 3",
   "language": "python",
   "name": "python3"
  },
  "language_info": {
   "codemirror_mode": {
    "name": "ipython",
    "version": 3
   },
   "file_extension": ".py",
   "mimetype": "text/x-python",
   "name": "python",
   "nbconvert_exporter": "python",
   "pygments_lexer": "ipython3",
   "version": "3.11.9"
  }
 },
 "nbformat": 4,
 "nbformat_minor": 2
}
